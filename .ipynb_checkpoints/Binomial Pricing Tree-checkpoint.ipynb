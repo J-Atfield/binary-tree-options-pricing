{
 "cells": [
  {
   "cell_type": "code",
   "execution_count": 7,
   "id": "b6990322-e80a-4b67-935e-e32bbc58a135",
   "metadata": {},
   "outputs": [],
   "source": [
    "import numpy as np\n",
    "import tree\n",
    "import option\n",
    "\n",
    "# Example usage:\n",
    "S0 = 100  # Initial stock price\n",
    "K = 110\n",
    "T = 1   # Number of years\n",
    "n = 3\n",
    "vol = 0.2\n",
    "u = 0.1   # Up move (20% increase)\n",
    "d = -0.1  # Down move (10% decrease)\n",
    "r = 0.05  # Risk-free rate (5%)"
   ]
  },
  {
   "cell_type": "code",
   "execution_count": 9,
   "id": "2b65187e-a50a-4d84-9f7f-b483539dae3d",
   "metadata": {},
   "outputs": [
    {
     "name": "stdout",
     "output_type": "stream",
     "text": [
      "The (undiscounted) price of the put is: $10.3\n",
      "       100.00\n",
      "\n",
      "\n",
      "\n",
      "\n",
      "\n",
      "\n",
      "\n",
      "\n",
      "   89.09       112.24\n",
      "\n",
      "\n",
      "\n",
      "\n",
      " 79.37   99.99   125.98\n",
      "\n",
      "\n",
      "70.71 89.09 112.23 141.40\n",
      "\n"
     ]
    }
   ],
   "source": [
    "put = option.Option(S0, K, r, T, vol, n, option_type='put')\n",
    "put_price = put.option_price\n",
    "print(f'The (undiscounted) price of the put is: ${np.round(put_price, 2)}')\n",
    "put.tree.print_text_tree()"
   ]
  },
  {
   "cell_type": "markdown",
   "id": "660a2d38-252e-4cf4-92e3-18ce419a3c1a",
   "metadata": {},
   "source": [
    "TODO:\n",
    "- Add discounting\n",
    "- Fix tree generation for n > 2, (floating point arithmetic issue)\n",
    "- add pricing to consider early exercise i.e put in exercise time t and compute price with that"
   ]
  },
  {
   "cell_type": "code",
   "execution_count": null,
   "id": "f17ee20e-2b6d-4b15-a3e2-0040dd28e23c",
   "metadata": {},
   "outputs": [],
   "source": []
  }
 ],
 "metadata": {
  "kernelspec": {
   "display_name": "Python 3 (ipykernel)",
   "language": "python",
   "name": "python3"
  },
  "language_info": {
   "codemirror_mode": {
    "name": "ipython",
    "version": 3
   },
   "file_extension": ".py",
   "mimetype": "text/x-python",
   "name": "python",
   "nbconvert_exporter": "python",
   "pygments_lexer": "ipython3",
   "version": "3.12.4"
  }
 },
 "nbformat": 4,
 "nbformat_minor": 5
}
