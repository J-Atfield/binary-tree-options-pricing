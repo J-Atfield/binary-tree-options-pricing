{
 "cells": [
  {
   "cell_type": "code",
   "execution_count": 9,
   "id": "b6990322-e80a-4b67-935e-e32bbc58a135",
   "metadata": {},
   "outputs": [],
   "source": [
    "import numpy as np\n",
    "import tree\n",
    "import option\n",
    "\n",
    "# Example usage:\n",
    "S0 = 100  # Initial stock price\n",
    "K = 110\n",
    "T = 3     # Number of periods\n",
    "u = 0.1   # Up move (20% increase)\n",
    "d = -0.1  # Down move (10% decrease)\n",
    "r = 0.05  # Risk-free rate (5%)"
   ]
  },
  {
   "cell_type": "code",
   "execution_count": 17,
   "id": "2b65187e-a50a-4d84-9f7f-b483539dae3d",
   "metadata": {},
   "outputs": [
    {
     "name": "stdout",
     "output_type": "stream",
     "text": [
      "The (undiscounted) price of the put is: $3.98\n",
      "       100.00\n",
      "\n",
      "\n",
      "\n",
      "\n",
      "\n",
      "\n",
      "\n",
      "\n",
      "   90.00       110.00\n",
      "\n",
      "\n",
      "\n",
      "\n",
      " 81.00   99.00   121.00\n",
      "\n",
      "\n",
      "72.90 89.10 108.90 133.10\n",
      "\n"
     ]
    }
   ],
   "source": [
    "put = option.Option(S0, K, r, T, u, d, type='put')\n",
    "put_price = put.option_price\n",
    "print(f'The (undiscounted) price of the put is: ${np.round(put_price, 2)}')\n",
    "put.tree.print_text_tree()"
   ]
  },
  {
   "cell_type": "markdown",
   "id": "660a2d38-252e-4cf4-92e3-18ce419a3c1a",
   "metadata": {},
   "source": [
    "TODO:\n",
    "- Add discounting\n",
    "- Fix tree generation for n > 2, (floating point arithmetic issue)\n",
    "- add pricing to consider early exercise i.e put in exercise time t and compute price with that"
   ]
  },
  {
   "cell_type": "code",
   "execution_count": null,
   "id": "f7ba212a-43aa-4527-9366-84be2576aa3b",
   "metadata": {},
   "outputs": [],
   "source": []
  }
 ],
 "metadata": {
  "kernelspec": {
   "display_name": "Python 3 (ipykernel)",
   "language": "python",
   "name": "python3"
  },
  "language_info": {
   "codemirror_mode": {
    "name": "ipython",
    "version": 3
   },
   "file_extension": ".py",
   "mimetype": "text/x-python",
   "name": "python",
   "nbconvert_exporter": "python",
   "pygments_lexer": "ipython3",
   "version": "3.12.4"
  }
 },
 "nbformat": 4,
 "nbformat_minor": 5
}
