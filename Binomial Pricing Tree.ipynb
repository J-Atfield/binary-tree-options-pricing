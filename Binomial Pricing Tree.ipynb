{
 "cells": [
  {
   "cell_type": "code",
   "execution_count": 3,
   "id": "b6990322-e80a-4b67-935e-e32bbc58a135",
   "metadata": {},
   "outputs": [],
   "source": [
    "import numpy as np\n",
    "import tree\n",
    "import option\n",
    "\n",
    "# Example usage:\n",
    "S0 = 100  # Initial stock price\n",
    "K = 110\n",
    "T = 1   # Number of years\n",
    "n = 9\n",
    "vol = 0.2\n",
    "u = 0.1   # Up move (20% increase)\n",
    "d = -0.1  # Down move (10% decrease)\n",
    "r = 0.05  # Risk-free rate (5%)"
   ]
  },
  {
   "cell_type": "code",
   "execution_count": 22,
   "id": "2b65187e-a50a-4d84-9f7f-b483539dae3d",
   "metadata": {},
   "outputs": [
    {
     "name": "stdout",
     "output_type": "stream",
     "text": [
      "The price of the put is: $10.68\n"
     ]
    }
   ],
   "source": [
    "put = option.Option(S0, K, r, T, vol, n, option_type='put')\n",
    "put_price = put.option_price\n",
    "print(f'The price of the put is: ${np.round(put_price, 2)}')\n",
    "# put.tree.print_text_tree()"
   ]
  },
  {
   "cell_type": "code",
   "execution_count": null,
   "id": "c17a80d7-b62b-45e1-be53-081dfbcdd85a",
   "metadata": {},
   "outputs": [],
   "source": []
  }
 ],
 "metadata": {
  "kernelspec": {
   "display_name": "Python 3 (ipykernel)",
   "language": "python",
   "name": "python3"
  },
  "language_info": {
   "codemirror_mode": {
    "name": "ipython",
    "version": 3
   },
   "file_extension": ".py",
   "mimetype": "text/x-python",
   "name": "python",
   "nbconvert_exporter": "python",
   "pygments_lexer": "ipython3",
   "version": "3.12.4"
  }
 },
 "nbformat": 4,
 "nbformat_minor": 5
}
